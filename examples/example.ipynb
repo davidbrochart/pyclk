{
 "cells": [
  {
   "cell_type": "code",
   "execution_count": 1,
   "metadata": {},
   "outputs": [],
   "source": [
    "import sys\n",
    "sys.path.append('..')\n",
    "from pyclk import Module, List, In, Out, Reg, Trace"
   ]
  },
  {
   "cell_type": "code",
   "execution_count": 2,
   "metadata": {
    "collapsed": true
   },
   "outputs": [],
   "source": [
    "class counter(Module):\n",
    "    def __init__(self):\n",
    "        self.i_rst = In()\n",
    "        self.o_cnt = Out()\n",
    "        self.r_cnt = Reg()\n",
    "    def logic(self):\n",
    "        # logic goes here\n",
    "        if self.i_rst == 1:\n",
    "            self.r_cnt = 0\n",
    "        else:\n",
    "            self.r_cnt = self.r_cnt.q + 1\n",
    "        self.o_cnt = self.r_cnt.q\n",
    "\n",
    "class top(Module):\n",
    "    def __init__(self):\n",
    "        # declare signals, registers, I/Os\n",
    "        # instanciate sub-modules and make connections\n",
    "        self.i_rst = List()\n",
    "        self.o_cnt = List()\n",
    "        self.u_counter = List()\n",
    "        for i in range(2):\n",
    "            self.i_rst[i] = In()\n",
    "            self.o_cnt[i] = Out()\n",
    "            self.u_counter[i] = _ = counter()\n",
    "            _.i_rst(self.i_rst[i])\n",
    "            _.o_cnt(self.o_cnt[i])\n",
    "    def task(self): # a task can be hooked to the module\n",
    "        while True:\n",
    "            yield self.wait(2) # wait for 2 clock cycles\n",
    "            print(f'Time is {self.time}')"
   ]
  },
  {
   "cell_type": "code",
   "execution_count": 5,
   "metadata": {},
   "outputs": [
    {
     "name": "stdout",
     "output_type": "stream",
     "text": [
      "Time is 2\n",
      "Time is 4\n",
      "Time is 6\n",
      "Time is 8\n"
     ]
    }
   ],
   "source": [
    "u_top = top()\n",
    "\n",
    "trace = Trace()\n",
    "for i in range(2):\n",
    "    trace.add(u_top.i_rst[i])\n",
    "    trace.add(u_top.o_cnt[i])\n",
    "u_top.set_trace(trace)\n",
    "\n",
    "u_top.i_rst[0] = 1\n",
    "u_top.i_rst[1] = 1\n",
    "\n",
    "u_top.run(3)\n",
    "\n",
    "u_top.i_rst[0] = 0\n",
    "\n",
    "u_top.run()\n",
    "\n",
    "u_top.i_rst[1] = 0\n",
    "\n",
    "u_top.run(5)"
   ]
  },
  {
   "cell_type": "code",
   "execution_count": 6,
   "metadata": {},
   "outputs": [
    {
     "data": {
      "image/png": "[encoded data removed]",
      "text/plain": [
       "<matplotlib.figure.Figure at 0x7f18125526d8>"
      ]
     },
     "metadata": {},
     "output_type": "display_data"
    }
   ],
   "source": [
    "trace.plot()"
   ]
  },
  {
   "cell_type": "code",
   "execution_count": null,
   "metadata": {
    "collapsed": true
   },
   "outputs": [],
   "source": []
  }
 ],
 "metadata": {
  "kernelspec": {
   "display_name": "Python 3",
   "language": "python",
   "name": "python3"
  },
  "language_info": {
   "codemirror_mode": {
    "name": "ipython",
    "version": 3
   },
   "file_extension": ".py",
   "mimetype": "text/x-python",
   "name": "python",
   "nbconvert_exporter": "python",
   "pygments_lexer": "ipython3",
   "version": "3.6.0"
  }
 },
 "nbformat": 4,
 "nbformat_minor": 2
}
