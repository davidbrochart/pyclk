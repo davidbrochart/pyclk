{
 "cells": [
  {
   "cell_type": "code",
   "execution_count": 1,
   "metadata": {},
   "outputs": [],
   "source": [
    "import sys\n",
    "sys.path.append('../pyclk')\n",
    "from pyclk import Module, Sig, In, Out, Reg, Trace"
   ]
  },
  {
   "cell_type": "code",
   "execution_count": 2,
   "metadata": {
    "collapsed": true
   },
   "outputs": [],
   "source": [
    "class counter(Module):\n",
    "    def __init__(s):\n",
    "        with s.setup():\n",
    "            s.i_rst = In()\n",
    "            s.o_cnt = Out()\n",
    "            s.r_cnt = Reg()\n",
    "    def logic(s):\n",
    "        # logic goes here:\n",
    "        if s.i_rst == 1:\n",
    "            s.r_cnt = 0\n",
    "        else:\n",
    "            s.r_cnt = s.r_cnt.q + 1\n",
    "        s.o_cnt = s.r_cnt.q\n",
    "\n",
    "class toplevel(Module):\n",
    "    def __init__(s):\n",
    "        with s.setup():\n",
    "            # declare signals, registers, I/Os:\n",
    "            s.i_rst1 = In()\n",
    "            s.i_rst2 = In()\n",
    "            s.o_cnt1 = Out()\n",
    "            s.o_cnt2 = Out()\n",
    "            # instanciate sub-modules and make connections:\n",
    "            s.u_counter1 = _ = counter()\n",
    "            _.i_rst(s.i_rst1)\n",
    "            _.o_cnt(s.o_cnt1)\n",
    "            s.u_counter2 = _ = counter()\n",
    "            _.i_rst(s.i_rst2)\n",
    "            _.o_cnt(s.o_cnt2)"
   ]
  },
  {
   "cell_type": "code",
   "execution_count": 3,
   "metadata": {},
   "outputs": [],
   "source": [
    "u_toplevel = toplevel()\n",
    "\n",
    "trace = Trace()\n",
    "trace.add(u_toplevel.o_cnt1)\n",
    "trace.add(u_toplevel.o_cnt2)\n",
    "\n",
    "u_toplevel.i_rst1 = 1\n",
    "u_toplevel.i_rst2 = 1\n",
    "\n",
    "u_toplevel.run(3, trace=trace)\n",
    "u_toplevel.i_rst1 = 0\n",
    "u_toplevel.run(trace=trace)\n",
    "u_toplevel.i_rst2 = 0\n",
    "u_toplevel.run(5, trace=trace)"
   ]
  },
  {
   "cell_type": "code",
   "execution_count": 4,
   "metadata": {},
   "outputs": [
    {
     "data": {
      "image/png": "[encoded data removed]",
      "text/plain": [
       "<matplotlib.figure.Figure at 0x7fa4703f1208>"
      ]
     },
     "metadata": {},
     "output_type": "display_data"
    }
   ],
   "source": [
    "trace.plot()"
   ]
  },
  {
   "cell_type": "code",
   "execution_count": null,
   "metadata": {
    "collapsed": true
   },
   "outputs": [],
   "source": []
  }
 ],
 "metadata": {
  "kernelspec": {
   "display_name": "Python 3",
   "language": "python",
   "name": "python3"
  },
  "language_info": {
   "codemirror_mode": {
    "name": "ipython",
    "version": 3
   },
   "file_extension": ".py",
   "mimetype": "text/x-python",
   "name": "python",
   "nbconvert_exporter": "python",
   "pygments_lexer": "ipython3",
   "version": "3.6.0"
  }
 },
 "nbformat": 4,
 "nbformat_minor": 2
}
