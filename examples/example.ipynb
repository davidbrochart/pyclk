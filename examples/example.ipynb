{
 "cells": [
  {
   "cell_type": "code",
   "execution_count": null,
   "metadata": {},
   "outputs": [],
   "source": [
    "import sys\n",
    "sys.path.append('..')\n",
    "from pyclk import Module, List, In, Out, Reg, Trace\n",
    "\n",
    "%matplotlib inline"
   ]
  },
  {
   "cell_type": "code",
   "execution_count": null,
   "metadata": {},
   "outputs": [],
   "source": [
    "class counter(Module):\n",
    "    def __init__(self):\n",
    "        self.i_rst = In()\n",
    "        self.o_cnt = Out()\n",
    "        self.r_cnt = _ = Reg()\n",
    "        _.d = 0\n",
    "    def logic(self):\n",
    "        # logic goes here\n",
    "        if self.i_rst.d == 1:\n",
    "            self.r_cnt.d = 0\n",
    "        else:\n",
    "            self.r_cnt.d = self.r_cnt.q + 1\n",
    "        self.o_cnt.d = self.r_cnt.q\n",
    "\n",
    "class top(Module):\n",
    "    def __init__(self):\n",
    "        # declare signals, registers, I/Os\n",
    "        # instanciate sub-modules and make connections\n",
    "        self.i_rst = List()\n",
    "        self.o_cnt = List()\n",
    "        self.u_counter = List()\n",
    "        for i in range(2):\n",
    "            self.i_rst[i] = In()\n",
    "            self.o_cnt[i] = Out()\n",
    "            self.u_counter[i] = _ = counter()\n",
    "            _.i_rst(self.i_rst[i])\n",
    "            _.o_cnt(self.o_cnt[i])\n",
    "    def task(self): # a task can be hooked to the module\n",
    "        while True:\n",
    "            yield self.wait(2) # wait for 2 clock cycles\n",
    "            print(f'Time is {self.time}')"
   ]
  },
  {
   "cell_type": "code",
   "execution_count": null,
   "metadata": {},
   "outputs": [],
   "source": [
    "u_top = top()\n",
    "\n",
    "trace = Trace()\n",
    "for i in range(2):\n",
    "    trace.add(u_top.i_rst[i])\n",
    "    trace.add(u_top.o_cnt[i])\n",
    "u_top.set_trace(trace)\n",
    "\n",
    "u_top.i_rst[0].d = 1\n",
    "u_top.i_rst[1].d = 1\n",
    "\n",
    "u_top.run(3)\n",
    "\n",
    "u_top.i_rst[0].d = 0\n",
    "\n",
    "u_top.run()\n",
    "\n",
    "u_top.i_rst[1].d = 0\n",
    "\n",
    "u_top.run(5)"
   ]
  },
  {
   "cell_type": "code",
   "execution_count": null,
   "metadata": {},
   "outputs": [],
   "source": [
    "trace.plot()"
   ]
  }
 ],
 "metadata": {
  "kernelspec": {
   "display_name": "Python 3",
   "language": "python",
   "name": "python3"
  },
  "language_info": {
   "codemirror_mode": {
    "name": "ipython",
    "version": 3
   },
   "file_extension": ".py",
   "mimetype": "text/x-python",
   "name": "python",
   "nbconvert_exporter": "python",
   "pygments_lexer": "ipython3",
   "version": "3.6.3"
  }
 },
 "nbformat": 4,
 "nbformat_minor": 2
}
