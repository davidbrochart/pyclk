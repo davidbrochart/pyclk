{
 "cells": [
  {
   "cell_type": "code",
   "execution_count": 1,
   "metadata": {},
   "outputs": [],
   "source": [
    "import sys\n",
    "sys.path.append('../pyclk')\n",
    "from pyclk import Module, Sig, In, Out, Reg, Trace"
   ]
  },
  {
   "cell_type": "code",
   "execution_count": 2,
   "metadata": {
    "collapsed": true
   },
   "outputs": [],
   "source": [
    "class counter(Module):\n",
    "    def __init__(self):\n",
    "        with self.setup():\n",
    "            self.i_rst = In()\n",
    "            self.o_cnt = Out()\n",
    "            self.r_cnt = Reg()\n",
    "    def logic(self):\n",
    "        # logic goes here:\n",
    "        if self.i_rst == 1:\n",
    "            self.r_cnt = 0\n",
    "        else:\n",
    "            self.r_cnt = self.r_cnt.q + 1\n",
    "        self.o_cnt = self.r_cnt.q\n",
    "\n",
    "class toplevel(Module):\n",
    "    def __init__(self):\n",
    "        with self.setup():\n",
    "            # declare signals, registers, I/Os:\n",
    "            self.i_rst1 = In()\n",
    "            self.i_rst2 = In()\n",
    "            self.o_cnt1 = Out()\n",
    "            self.o_cnt2 = Out()\n",
    "            # instanciate sub-modules and make connections:\n",
    "            self.u_counter1 = _ = counter()\n",
    "            _.i_rst(self.i_rst1)\n",
    "            _.o_cnt(self.o_cnt1)\n",
    "            self.u_counter2 = _ = counter()\n",
    "            _.i_rst(self.i_rst2)\n",
    "            _.o_cnt(self.o_cnt2)\n",
    "    def task(self): # a task can be hooked to the module\n",
    "        while True:\n",
    "            yield self.wait(2) # wait for 2 clock cycles\n",
    "            print(f'Time is {self.time}')"
   ]
  },
  {
   "cell_type": "code",
   "execution_count": 3,
   "metadata": {},
   "outputs": [
    {
     "name": "stdout",
     "output_type": "stream",
     "text": [
      "Time is 2\n",
      "Time is 4\n",
      "Time is 6\n",
      "Time is 8\n",
      "Time is 10\n",
      "Time is 12\n",
      "Time is 14\n",
      "Time is 16\n",
      "Time is 18\n"
     ]
    }
   ],
   "source": [
    "u_toplevel = toplevel()\n",
    "\n",
    "trace = Trace()\n",
    "trace.add(u_toplevel.i_rst1)\n",
    "trace.add(u_toplevel.o_cnt1)\n",
    "trace.add(u_toplevel.i_rst2)\n",
    "trace.add(u_toplevel.o_cnt2)\n",
    "\n",
    "u_toplevel.i_rst1 = 1\n",
    "u_toplevel.i_rst2 = 1\n",
    "\n",
    "u_toplevel.run(3, trace=trace)\n",
    "\n",
    "u_toplevel.i_rst1 = 0\n",
    "\n",
    "u_toplevel.run(trace=trace)\n",
    "\n",
    "u_toplevel.i_rst2 = 0\n",
    "\n",
    "u_toplevel.run(5, trace=trace)\n",
    "\n",
    "trace.remove(u_toplevel.o_cnt1)\n",
    "\n",
    "u_toplevel.run(5, trace=trace)\n",
    "\n",
    "trace.add(u_toplevel.o_cnt1)\n",
    "\n",
    "u_toplevel.run(5, trace=trace)"
   ]
  },
  {
   "cell_type": "code",
   "execution_count": 4,
   "metadata": {},
   "outputs": [
    {
     "data": {
      "image/png": "[encoded data removed]",
      "text/plain": [
       "<matplotlib.figure.Figure at 0x7fbac049c860>"
      ]
     },
     "metadata": {},
     "output_type": "display_data"
    }
   ],
   "source": [
    "trace.plot()"
   ]
  },
  {
   "cell_type": "code",
   "execution_count": null,
   "metadata": {
    "collapsed": true
   },
   "outputs": [],
   "source": []
  }
 ],
 "metadata": {
  "kernelspec": {
   "display_name": "Python 3",
   "language": "python",
   "name": "python3"
  },
  "language_info": {
   "codemirror_mode": {
    "name": "ipython",
    "version": 3
   },
   "file_extension": ".py",
   "mimetype": "text/x-python",
   "name": "python",
   "nbconvert_exporter": "python",
   "pygments_lexer": "ipython3",
   "version": "3.6.0"
  }
 },
 "nbformat": 4,
 "nbformat_minor": 2
}
